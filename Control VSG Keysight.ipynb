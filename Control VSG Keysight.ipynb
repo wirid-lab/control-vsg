{
 "cells": [
  {
   "cell_type": "code",
   "execution_count": 1,
   "metadata": {},
   "outputs": [
    {
     "name": "stdout",
     "output_type": "stream",
     "text": [
      "Requirement already satisfied: python-vxi11 in /usr/local/lib/python3.6/dist-packages\r\n"
     ]
    }
   ],
   "source": [
    "!pip3 install python-vxi11"
   ]
  },
  {
   "cell_type": "code",
   "execution_count": 2,
   "metadata": {},
   "outputs": [],
   "source": [
    "import RPi.GPIO as GPIO\n",
    "import time\n",
    "import os\n",
    "import vxi11\n",
    "DEVICE_IP=\"192.168.0.2\""
   ]
  },
  {
   "cell_type": "code",
   "execution_count": 3,
   "metadata": {},
   "outputs": [],
   "source": [
    "def toggle_energy():\n",
    "    GPIO.setwarnings(False)\n",
    "    GPIO.setmode(GPIO.BOARD)\n",
    "    GPIO.setup(7, GPIO.OUT)\n",
    "    print(\"processing....\")\n",
    "    p = GPIO.PWM(7, 50) # GPIO 7 for PWM with 50Hz\n",
    "    p.start(2.5) # Initialization\n",
    "    p.ChangeDutyCycle(2.5)\n",
    "    time.sleep(3)\n",
    "    p.ChangeDutyCycle(12.5)\n",
    "    time.sleep(3)\n",
    "    p.ChangeDutyCycle(2.5)\n",
    "    time.sleep(2)\n",
    "    p.stop()\n",
    "    time.sleep(20)\n",
    "    print(\"Completed!!\")\n",
    "    time.sleep(1)\n",
    "    exit(0)"
   ]
  },
  {
   "cell_type": "code",
   "execution_count": 4,
   "metadata": {},
   "outputs": [
    {
     "name": "stdout",
     "output_type": "stream",
     "text": [
      "Vector Signal Generator is ON\n"
     ]
    }
   ],
   "source": [
    "response = os.system(\"ping -c 1 \" + DEVICE_IP)\n",
    "if response == 0:\n",
    "    print (\"Vector Signal Generator is ON\")\n",
    "else:\n",
    "    toggle_energy()\n"
   ]
  },
  {
   "cell_type": "code",
   "execution_count": 5,
   "metadata": {},
   "outputs": [],
   "source": [
    "instrument = vxi11.Instrument(DEVICE_IP)\n",
    "instrument.timeout = 30\n",
    "instrument.open()"
   ]
  },
  {
   "cell_type": "code",
   "execution_count": 6,
   "metadata": {
    "scrolled": true
   },
   "outputs": [
    {
     "name": "stdout",
     "output_type": "stream",
     "text": [
      "Agilent Technologies, N5172B, MY53051068, B.01.51\n"
     ]
    }
   ],
   "source": [
    "# Get Instrument Identification\n",
    "identification = instrument.ask(\"*IDN?\")\n",
    "print(identification)\n"
   ]
  },
  {
   "cell_type": "code",
   "execution_count": 8,
   "metadata": {},
   "outputs": [
    {
     "name": "stdout",
     "output_type": "stream",
     "text": [
      "+6.0000000000000E+09\n"
     ]
    }
   ],
   "source": [
    "# Get Instrument Identification\n",
    "identification = instrument.ask(\":FREQ:CENT?\")\n",
    "print(identification)"
   ]
  },
  {
   "cell_type": "code",
   "execution_count": null,
   "metadata": {},
   "outputs": [],
   "source": []
  }
 ],
 "metadata": {
  "kernelspec": {
   "display_name": "Python 3",
   "language": "python",
   "name": "python3"
  },
  "language_info": {
   "codemirror_mode": {
    "name": "ipython",
    "version": 3
   },
   "file_extension": ".py",
   "mimetype": "text/x-python",
   "name": "python",
   "nbconvert_exporter": "python",
   "pygments_lexer": "ipython3",
   "version": "3.6.9"
  }
 },
 "nbformat": 4,
 "nbformat_minor": 4
}
